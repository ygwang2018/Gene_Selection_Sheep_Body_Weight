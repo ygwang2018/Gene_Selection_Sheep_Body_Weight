{
 "cells": [
  {
   "cell_type": "code",
   "execution_count": 13,
   "metadata": {},
   "outputs": [],
   "source": [
    "import random\n",
    "import numpy as np\n",
    "from sklearn.svm import SVR\n",
    "import copy\n",
    "def SCA(X_train,Y_train,X_test,Y_test,T,N,a,s,c,Gamma,Epsilon):\n",
    "    t=1\n",
    "    sample_num,feature_num=X_train.shape\n",
    "    Sample_test_num,feature_num=X_test.shape\n",
    "    clf=SVR(kernel='rbf',C=c,gamma=Gamma,epsilon=Epsilon)\n",
    "    Population=[]\n",
    "    p=s/feature_num\n",
    "    for indi_ in range(N):\n",
    "        individual=[1 if random.uniform(0,1)<p else 0 for i in range(feature_num)]\n",
    "        Population.append(individual)\n",
    "    best_MSE=float(\"inf\")\n",
    "    best_active=[]\n",
    "    best_individual=[0,float(\"inf\")]\n",
    "    while t<=T:\n",
    "        Fitness=[]\n",
    "        for each_fit in range(N):\n",
    "            Active_set=[]\n",
    "            for fea in range(feature_num):\n",
    "                if Population[each_fit][fea]==1:\n",
    "                    Active_set.append(fea)\n",
    "            clf.fit(X_train[:,Active_set],Y_train.ravel())\n",
    "            Y_predict=clf.predict(X_test[:,Active_set]).reshape(Sample_test_num,1)\n",
    "            MSE=np.sum((Y_predict-Y_test)**2)/Sample_test_num\n",
    "            if MSE<best_MSE:\n",
    "                best_MSE=MSE\n",
    "                best_active=Active_set\n",
    "            Fitness.append(MSE)\n",
    "            if MSE<best_individual[1]:\n",
    "                best_individual[1]=MSE\n",
    "                best_individual[0]=copy.deepcopy(Population[each_fit])\n",
    "     \n",
    "        r_1=a-t*(a*T)\n",
    "        r_2=random.uniform(0,1)\n",
    "        r_3=random.uniform(0,1)\n",
    "        s=random.uniform(0,1)\n",
    "        for indi_ in range(N):\n",
    "            for fea in range(feature_num):\n",
    "                if s<0.5:\n",
    "                    x=Population[indi_][fea]+r_1*np.sin(r_2)*np.abs(r_3*best_individual[0][fea]-Population[indi_][fea])\n",
    "                    if x>0.5:\n",
    "                        Population[indi_][fea]=1\n",
    "                    else:\n",
    "                        Population[indi_][fea]=0\n",
    "                        \n",
    "                else:\n",
    "                    x=Population[indi_][fea]+r_1*np.cos(r_2)*np.abs(r_3*best_individual[0][fea]-Population[indi_][fea])\n",
    "                    if x>0.5:\n",
    "                        Population[indi_][fea]=1\n",
    "                    else:\n",
    "                        Population[indi_][fea]=0\n",
    "        t+=1\n",
    "    return best_active,best_MSE\n",
    "            \n",
    "            \n",
    "    \n",
    "    "
   ]
  },
  {
   "cell_type": "code",
   "execution_count": 7,
   "metadata": {},
   "outputs": [
    {
     "name": "stderr",
     "output_type": "stream",
     "text": [
      "C:\\ProgramData\\Anaconda3\\lib\\site-packages\\IPython\\core\\interactiveshell.py:2785: DtypeWarning: Columns (1,2,3,4,5,7,9,10,11,13,14,15,16,17,18,20,21,22,23,24,27,28,31,34,74,95,96,97,98,99,100,101,102,103,104,105,106,107,108,119,120,121,122,123,124,125,126,127,128,129,130,131,132,133,134,135,136,137,139,141,143,146,148,150,152,153,155,167,169,170,171,172,173,174,175,176,177,178,179,180,191,192,193,194,205,206,207,210,216,217,218,219,220,221,222,223,224,225,226,227,228) have mixed types. Specify dtype option on import or set low_memory=False.\n",
      "  interactivity=interactivity, compiler=compiler, result=result)\n"
     ]
    }
   ],
   "source": [
    "import pandas as pd\n",
    "import numpy as np\n",
    "data=pd.read_csv(\"HuSheepData.csv\",encoding='gb18030')\n",
    "Weaning_Weight=np.array(data)[5,1:].astype(np.float64).reshape(240,1)\n",
    "Birth_Weight=np.array(data)[4,1:].astype(np.float64).reshape(240,1)\n",
    "Six_Weight=np.array(data)[6,1:].astype(np.float64).reshape(240,1)\n",
    "Featur_Sample=np.array(data)[8:,1:].astype(np.float64).T\n",
    "X_train=Featur_Sample[:170,:]\n",
    "X_test=Featur_Sample[170:,:]\n",
    "Birth_Weight_train=Birth_Weight[:170]\n",
    "Birth_Weight_test=Birth_Weight[170:]\n",
    "Six_Weight_train=Six_Weight[:170]\n",
    "Six_Weight_test=Six_Weight[170:]\n",
    "Weaning_Weight_train=Weaning_Weight[:170]\n",
    "Weaning_Weight_test=Weaning_Weight[170:]"
   ]
  },
  {
   "cell_type": "markdown",
   "metadata": {},
   "source": [
    "# Birth Weight"
   ]
  },
  {
   "cell_type": "code",
   "execution_count": null,
   "metadata": {},
   "outputs": [],
   "source": [
    "Birth_best_active,Birth_best_MSE=SCA(X_train,Birth_Weight_train,X_test,Birth_Weight_test,30,20,1,2000,0.1,0.01,0.00001)"
   ]
  },
  {
   "cell_type": "markdown",
   "metadata": {},
   "source": [
    "# Six-Month Weight"
   ]
  },
  {
   "cell_type": "code",
   "execution_count": null,
   "metadata": {},
   "outputs": [],
   "source": [
    "Birth_best_active,Birth_best_best_MSE=SCA(X_train,Birth_Weight_train,X_test,Birth_Weight_test,30,20,1,2000,0.1,0.01,0.00001)"
   ]
  }
 ],
 "metadata": {
  "kernelspec": {
   "display_name": "Python 3",
   "language": "python",
   "name": "python3"
  },
  "language_info": {
   "codemirror_mode": {
    "name": "ipython",
    "version": 3
   },
   "file_extension": ".py",
   "mimetype": "text/x-python",
   "name": "python",
   "nbconvert_exporter": "python",
   "pygments_lexer": "ipython3",
   "version": "3.7.0"
  }
 },
 "nbformat": 4,
 "nbformat_minor": 2
}
